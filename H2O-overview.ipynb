{
 "cells": [
  {
   "cell_type": "code",
   "execution_count": 201,
   "metadata": {},
   "outputs": [],
   "source": [
    "import numpy as np\n",
    "\n",
    "import matplotlib.pyplot as plt\n",
    "%matplotlib inline"
   ]
  },
  {
   "cell_type": "markdown",
   "metadata": {},
   "source": [
    "# H2O overview\n",
    "\n",
    "## useful links:\n",
    "* Tutorials: https://github.com/h2oai/h2o-tutorials\n",
    "* H2O.ai (all products) documentation: http://docs.h2o.ai/ \n",
    "* Base H2O documentation http://docs.h2o.ai/h2o/latest-stable/h2o-docs/index.html\n",
    "* Sparkling water documentation: http://docs.h2o.ai/sparkling-water/2.3/latest-stable/doc/index.html\n",
    "* H2O4GPU (still in alpha): https://github.com/h2oai/h2o4gpu/blob/master/README.md"
   ]
  },
  {
   "cell_type": "markdown",
   "metadata": {},
   "source": [
    "Company line: \"H2O is an open source, in-memory, distributed, fast, and scalable machine learning and predictive analytics platform that allows you to build machine learning models on big data and provides easy productionalization of those models in an enterprise environment.\"\n",
    "\n",
    "### My take: Big data version of scikit-learn + pandas (sort of)\n",
    "\n",
    "* written in java\n",
    "* APIs for python, R, and Flow \n",
    "\n",
    "### ML algoritms (availabile in h2o.estimators):\n",
    "* Gradient Boosting Machine\n",
    "* Distributed Random Forest\n",
    "* Deep Learning -> (Feed forward multi-layer perceptron)\n",
    "* KMeans\n",
    "* Generalized Linear Estimator\n",
    "* PCA\n",
    "* Word2Vec\n",
    "* ...\n",
    "* No support for SVMs, RNNs, CNNs, ...\n",
    "\n",
    "### Fun stuff\n",
    "* Grid search (for hyperparameter optimization)\n",
    "* AutoML (automatic model selection)\n",
    "\n",
    "### Installing H2O\n",
    "#### Simple python client installation (one machine):\n",
    "* `pip install h2o`\n",
    "* Dependencies (should get installed when you run the above command): requests, tabulate, scikit-learn, colorama, future\n",
    "\n",
    "#### H2O on Hadoop installation:\n",
    "* complete steps here: http://h2o-release.s3.amazonaws.com/h2o/rel-wright/3/index.html\n",
    "* Hortonworks example:\n",
    "\n",
    "`wget http://h2o-release.s3.amazonaws.com/h2o/rel-wright/3/h2o-3.20.0.3-hdp2.6.zip`\n",
    "\n",
    "`unzip h2o-3.20.0.3-hdp2.6.zip`\n",
    "\n",
    "`cd h2o-3.20.0.3-hdp2.6`\n",
    "\n",
    "`/usr/bin/hadoop jar /home/sshuser/h2o-3.21.0.3-hdp2.6/h2odriver.jar -nodes 8 -mapperXmx 80g`\n",
    "# Let's start H2O!"
   ]
  },
  {
   "cell_type": "code",
   "execution_count": 117,
   "metadata": {},
   "outputs": [
    {
     "name": "stdout",
     "output_type": "stream",
     "text": [
      "Checking whether there is an H2O instance running at http://localhost:54321..... not found.\n",
      "Attempting to start a local H2O server...\n",
      "  Java Version: openjdk version \"1.8.0_171\"; OpenJDK Runtime Environment (build 1.8.0_171-8u171-b11-0ubuntu0.17.10.1-b11); OpenJDK 64-Bit Server VM (build 25.171-b11, mixed mode)\n",
      "  Starting server from /usr/local/lib/python2.7/dist-packages/h2o/backend/bin/h2o.jar\n",
      "  Ice root: /tmp/tmpj5iDzH\n",
      "  JVM stdout: /tmp/tmpj5iDzH/h2o_sshuser_started_from_python.out\n",
      "  JVM stderr: /tmp/tmpj5iDzH/h2o_sshuser_started_from_python.err\n",
      "  Server is running at http://127.0.0.1:54321\n",
      "Connecting to H2O server at http://127.0.0.1:54321... successful.\n"
     ]
    },
    {
     "data": {
      "text/html": [
       "<div style=\"overflow:auto\"><table style=\"width:50%\"><tr><td>H2O cluster uptime:</td>\n",
       "<td>17 secs</td></tr>\n",
       "<tr><td>H2O cluster timezone:</td>\n",
       "<td>Etc/UTC</td></tr>\n",
       "<tr><td>H2O data parsing timezone:</td>\n",
       "<td>UTC</td></tr>\n",
       "<tr><td>H2O cluster version:</td>\n",
       "<td>3.20.0.2</td></tr>\n",
       "<tr><td>H2O cluster version age:</td>\n",
       "<td>1 month and 10 days </td></tr>\n",
       "<tr><td>H2O cluster name:</td>\n",
       "<td>H2O_from_python_sshuser_p8eh7w</td></tr>\n",
       "<tr><td>H2O cluster total nodes:</td>\n",
       "<td>1</td></tr>\n",
       "<tr><td>H2O cluster free memory:</td>\n",
       "<td>26.67 Gb</td></tr>\n",
       "<tr><td>H2O cluster total cores:</td>\n",
       "<td>32</td></tr>\n",
       "<tr><td>H2O cluster allowed cores:</td>\n",
       "<td>32</td></tr>\n",
       "<tr><td>H2O cluster status:</td>\n",
       "<td>accepting new members, healthy</td></tr>\n",
       "<tr><td>H2O connection url:</td>\n",
       "<td>http://127.0.0.1:54321</td></tr>\n",
       "<tr><td>H2O connection proxy:</td>\n",
       "<td>None</td></tr>\n",
       "<tr><td>H2O internal security:</td>\n",
       "<td>False</td></tr>\n",
       "<tr><td>H2O API Extensions:</td>\n",
       "<td>XGBoost, Algos, AutoML, Core V3, Core V4</td></tr>\n",
       "<tr><td>Python version:</td>\n",
       "<td>2.7.14 final</td></tr></table></div>"
      ],
      "text/plain": [
       "--------------------------  ----------------------------------------\n",
       "H2O cluster uptime:         17 secs\n",
       "H2O cluster timezone:       Etc/UTC\n",
       "H2O data parsing timezone:  UTC\n",
       "H2O cluster version:        3.20.0.2\n",
       "H2O cluster version age:    1 month and 10 days\n",
       "H2O cluster name:           H2O_from_python_sshuser_p8eh7w\n",
       "H2O cluster total nodes:    1\n",
       "H2O cluster free memory:    26.67 Gb\n",
       "H2O cluster total cores:    32\n",
       "H2O cluster allowed cores:  32\n",
       "H2O cluster status:         accepting new members, healthy\n",
       "H2O connection url:         http://127.0.0.1:54321\n",
       "H2O connection proxy:\n",
       "H2O internal security:      False\n",
       "H2O API Extensions:         XGBoost, Algos, AutoML, Core V3, Core V4\n",
       "Python version:             2.7.14 final\n",
       "--------------------------  ----------------------------------------"
      ]
     },
     "metadata": {},
     "output_type": "display_data"
    }
   ],
   "source": [
    "import h2o\n",
    "h2o.init()"
   ]
  },
  {
   "cell_type": "code",
   "execution_count": 118,
   "metadata": {},
   "outputs": [
    {
     "data": {
      "text/html": [
       "<div style=\"overflow:auto\"><table style=\"width:50%\"><tr><td>H2O cluster uptime:</td>\n",
       "<td>17 secs</td></tr>\n",
       "<tr><td>H2O cluster timezone:</td>\n",
       "<td>Etc/UTC</td></tr>\n",
       "<tr><td>H2O data parsing timezone:</td>\n",
       "<td>UTC</td></tr>\n",
       "<tr><td>H2O cluster version:</td>\n",
       "<td>3.20.0.2</td></tr>\n",
       "<tr><td>H2O cluster version age:</td>\n",
       "<td>1 month and 10 days </td></tr>\n",
       "<tr><td>H2O cluster name:</td>\n",
       "<td>H2O_from_python_sshuser_p8eh7w</td></tr>\n",
       "<tr><td>H2O cluster total nodes:</td>\n",
       "<td>1</td></tr>\n",
       "<tr><td>H2O cluster free memory:</td>\n",
       "<td>26.67 Gb</td></tr>\n",
       "<tr><td>H2O cluster total cores:</td>\n",
       "<td>32</td></tr>\n",
       "<tr><td>H2O cluster allowed cores:</td>\n",
       "<td>32</td></tr>\n",
       "<tr><td>H2O cluster status:</td>\n",
       "<td>accepting new members, healthy</td></tr>\n",
       "<tr><td>H2O connection url:</td>\n",
       "<td>http://127.0.0.1:54321</td></tr>\n",
       "<tr><td>H2O connection proxy:</td>\n",
       "<td>None</td></tr>\n",
       "<tr><td>H2O internal security:</td>\n",
       "<td>False</td></tr>\n",
       "<tr><td>H2O API Extensions:</td>\n",
       "<td>XGBoost, Algos, AutoML, Core V3, Core V4</td></tr>\n",
       "<tr><td>Python version:</td>\n",
       "<td>2.7.14 final</td></tr></table></div>"
      ],
      "text/plain": [
       "--------------------------  ----------------------------------------\n",
       "H2O cluster uptime:         17 secs\n",
       "H2O cluster timezone:       Etc/UTC\n",
       "H2O data parsing timezone:  UTC\n",
       "H2O cluster version:        3.20.0.2\n",
       "H2O cluster version age:    1 month and 10 days\n",
       "H2O cluster name:           H2O_from_python_sshuser_p8eh7w\n",
       "H2O cluster total nodes:    1\n",
       "H2O cluster free memory:    26.67 Gb\n",
       "H2O cluster total cores:    32\n",
       "H2O cluster allowed cores:  32\n",
       "H2O cluster status:         accepting new members, healthy\n",
       "H2O connection url:         http://127.0.0.1:54321\n",
       "H2O connection proxy:\n",
       "H2O internal security:      False\n",
       "H2O API Extensions:         XGBoost, Algos, AutoML, Core V3, Core V4\n",
       "Python version:             2.7.14 final\n",
       "--------------------------  ----------------------------------------"
      ]
     },
     "metadata": {},
     "output_type": "display_data"
    }
   ],
   "source": [
    "## You can run h2o.init() as many time as you'd like\n",
    "## you can also get the cluster information by doing\n",
    "h2o.cluster().show_status()"
   ]
  },
  {
   "cell_type": "code",
   "execution_count": 121,
   "metadata": {},
   "outputs": [],
   "source": [
    "## There are a number of useful methods associated with h2o.cluster()\n",
    "## shutdown the cluster:\n",
    "h2o.cluster().shutdown()"
   ]
  },
  {
   "cell_type": "code",
   "execution_count": 122,
   "metadata": {},
   "outputs": [
    {
     "name": "stdout",
     "output_type": "stream",
     "text": [
      "Checking whether there is an H2O instance running at http://localhost:54321..... not found.\n",
      "Attempting to start a local H2O server...\n",
      "  Java Version: openjdk version \"1.8.0_171\"; OpenJDK Runtime Environment (build 1.8.0_171-8u171-b11-0ubuntu0.17.10.1-b11); OpenJDK 64-Bit Server VM (build 25.171-b11, mixed mode)\n",
      "  Starting server from /usr/local/lib/python2.7/dist-packages/h2o/backend/bin/h2o.jar\n",
      "  Ice root: /tmp/tmpmPtKx2\n",
      "  JVM stdout: /tmp/tmpmPtKx2/h2o_sshuser_started_from_python.out\n",
      "  JVM stderr: /tmp/tmpmPtKx2/h2o_sshuser_started_from_python.err\n",
      "  Server is running at http://127.0.0.1:54321\n",
      "Connecting to H2O server at http://127.0.0.1:54321... successful.\n"
     ]
    },
    {
     "data": {
      "text/html": [
       "<div style=\"overflow:auto\"><table style=\"width:50%\"><tr><td>H2O cluster uptime:</td>\n",
       "<td>17 secs</td></tr>\n",
       "<tr><td>H2O cluster timezone:</td>\n",
       "<td>Etc/UTC</td></tr>\n",
       "<tr><td>H2O data parsing timezone:</td>\n",
       "<td>UTC</td></tr>\n",
       "<tr><td>H2O cluster version:</td>\n",
       "<td>3.20.0.2</td></tr>\n",
       "<tr><td>H2O cluster version age:</td>\n",
       "<td>1 month and 10 days </td></tr>\n",
       "<tr><td>H2O cluster name:</td>\n",
       "<td>H2O_from_python_sshuser_iue0vn</td></tr>\n",
       "<tr><td>H2O cluster total nodes:</td>\n",
       "<td>1</td></tr>\n",
       "<tr><td>H2O cluster free memory:</td>\n",
       "<td>239.2 Gb</td></tr>\n",
       "<tr><td>H2O cluster total cores:</td>\n",
       "<td>32</td></tr>\n",
       "<tr><td>H2O cluster allowed cores:</td>\n",
       "<td>32</td></tr>\n",
       "<tr><td>H2O cluster status:</td>\n",
       "<td>accepting new members, healthy</td></tr>\n",
       "<tr><td>H2O connection url:</td>\n",
       "<td>http://127.0.0.1:54321</td></tr>\n",
       "<tr><td>H2O connection proxy:</td>\n",
       "<td>None</td></tr>\n",
       "<tr><td>H2O internal security:</td>\n",
       "<td>False</td></tr>\n",
       "<tr><td>H2O API Extensions:</td>\n",
       "<td>XGBoost, Algos, AutoML, Core V3, Core V4</td></tr>\n",
       "<tr><td>Python version:</td>\n",
       "<td>2.7.14 final</td></tr></table></div>"
      ],
      "text/plain": [
       "--------------------------  ----------------------------------------\n",
       "H2O cluster uptime:         17 secs\n",
       "H2O cluster timezone:       Etc/UTC\n",
       "H2O data parsing timezone:  UTC\n",
       "H2O cluster version:        3.20.0.2\n",
       "H2O cluster version age:    1 month and 10 days\n",
       "H2O cluster name:           H2O_from_python_sshuser_iue0vn\n",
       "H2O cluster total nodes:    1\n",
       "H2O cluster free memory:    239.2 Gb\n",
       "H2O cluster total cores:    32\n",
       "H2O cluster allowed cores:  32\n",
       "H2O cluster status:         accepting new members, healthy\n",
       "H2O connection url:         http://127.0.0.1:54321\n",
       "H2O connection proxy:\n",
       "H2O internal security:      False\n",
       "H2O API Extensions:         XGBoost, Algos, AutoML, Core V3, Core V4\n",
       "Python version:             2.7.14 final\n",
       "--------------------------  ----------------------------------------"
      ]
     },
     "metadata": {},
     "output_type": "display_data"
    }
   ],
   "source": [
    "## if you want to connect to h2o running on a hadoop cluster, you must specify the \n",
    "## ip of the head node as an argument like so: h2o.init(ip='10.0.0.4')\n",
    "\n",
    "## can specify cluster memory by h2o.init(min_mem_size='100G')\n",
    "## neat trick to get maximum amount of memory available:\n",
    "\n",
    "import psutil\n",
    "h2o.init(min_mem_size=psutil.virtual_memory().free)"
   ]
  },
  {
   "cell_type": "code",
   "execution_count": null,
   "metadata": {},
   "outputs": [],
   "source": []
  },
  {
   "cell_type": "code",
   "execution_count": null,
   "metadata": {},
   "outputs": [],
   "source": []
  },
  {
   "cell_type": "code",
   "execution_count": null,
   "metadata": {},
   "outputs": [],
   "source": []
  },
  {
   "cell_type": "markdown",
   "metadata": {},
   "source": [
    "## Load data and do some simple operations\n",
    "\n",
    "### CERN open data from 2010 Run of LHC\n",
    "### Small sample of events with exactly two muons"
   ]
  },
  {
   "cell_type": "code",
   "execution_count": 315,
   "metadata": {},
   "outputs": [
    {
     "name": "stdout",
     "output_type": "stream",
     "text": [
      "Parse progress: |█████████████████████████████████████████████████████████| 100%\n"
     ]
    }
   ],
   "source": [
    "hdf = h2o.import_file(\"http://opendata.cern.ch/record/700/files/MuRun2010B.csv\")\n",
    "\n",
    "\n",
    "## path must be accesable to all nodes in cluster\n",
    "## if a local file and your running a hadoop cluster\n",
    "## either copy to hdfs or (slow) use h2o.upload_file instead"
   ]
  },
  {
   "cell_type": "code",
   "execution_count": 148,
   "metadata": {},
   "outputs": [
    {
     "data": {
      "text/plain": [
       "(100000, 21)"
      ]
     },
     "execution_count": 148,
     "metadata": {},
     "output_type": "execute_result"
    }
   ],
   "source": [
    "## get dimensions of dataframe\n",
    "hdf.shape"
   ]
  },
  {
   "cell_type": "code",
   "execution_count": 149,
   "metadata": {},
   "outputs": [
    {
     "data": {
      "text/html": [
       "<table>\n",
       "<thead>\n",
       "<tr><th style=\"text-align: right;\">   Run</th><th style=\"text-align: right;\">      Event</th><th>Type1  </th><th style=\"text-align: right;\">      E1</th><th style=\"text-align: right;\">     px1 </th><th style=\"text-align: right;\">     py1</th><th style=\"text-align: right;\">      pz1</th><th style=\"text-align: right;\">     pt1</th><th style=\"text-align: right;\">     eta1</th><th style=\"text-align: right;\">     phi1</th><th style=\"text-align: right;\">  Q1</th><th>Type2  </th><th style=\"text-align: right;\">      E2</th><th style=\"text-align: right;\">      px2</th><th style=\"text-align: right;\">       py2</th><th style=\"text-align: right;\">      pz2</th><th style=\"text-align: right;\">     pt2</th><th style=\"text-align: right;\">     eta2</th><th style=\"text-align: right;\">      phi2</th><th style=\"text-align: right;\">  Q2</th><th style=\"text-align: right;\">       M</th></tr>\n",
       "</thead>\n",
       "<tbody>\n",
       "<tr><td style=\"text-align: right;\">146436</td><td style=\"text-align: right;\">9.08308e+07</td><td>G      </td><td style=\"text-align: right;\">19.1712 </td><td style=\"text-align: right;\"> 3.81713 </td><td style=\"text-align: right;\"> 9.04323</td><td style=\"text-align: right;\">-16.4673 </td><td style=\"text-align: right;\"> 9.81583</td><td style=\"text-align: right;\">-1.28942 </td><td style=\"text-align: right;\"> 1.17139 </td><td style=\"text-align: right;\">   1</td><td>T      </td><td style=\"text-align: right;\"> 5.43984</td><td style=\"text-align: right;\">-0.362592</td><td style=\"text-align: right;\">  2.62699 </td><td style=\"text-align: right;\">-4.74849 </td><td style=\"text-align: right;\"> 2.65189</td><td style=\"text-align: right;\">-1.34587 </td><td style=\"text-align: right;\"> 1.70796  </td><td style=\"text-align: right;\">   1</td><td style=\"text-align: right;\"> 2.73205</td></tr>\n",
       "<tr><td style=\"text-align: right;\">146436</td><td style=\"text-align: right;\">9.08622e+07</td><td>G      </td><td style=\"text-align: right;\">12.9435 </td><td style=\"text-align: right;\"> 5.12579 </td><td style=\"text-align: right;\">-3.98369</td><td style=\"text-align: right;\">-11.1973 </td><td style=\"text-align: right;\"> 6.4918 </td><td style=\"text-align: right;\">-1.31335 </td><td style=\"text-align: right;\">-0.660674</td><td style=\"text-align: right;\">  -1</td><td>G      </td><td style=\"text-align: right;\">11.8636 </td><td style=\"text-align: right;\"> 4.78984 </td><td style=\"text-align: right;\"> -6.26222 </td><td style=\"text-align: right;\">-8.86434 </td><td style=\"text-align: right;\"> 7.88403</td><td style=\"text-align: right;\">-0.966622</td><td style=\"text-align: right;\">-0.917841 </td><td style=\"text-align: right;\">   1</td><td style=\"text-align: right;\"> 3.10256</td></tr>\n",
       "<tr><td style=\"text-align: right;\">146436</td><td style=\"text-align: right;\">9.06448e+07</td><td>G      </td><td style=\"text-align: right;\">12.3999 </td><td style=\"text-align: right;\">-0.849742</td><td style=\"text-align: right;\"> 9.4011 </td><td style=\"text-align: right;\">  8.04015</td><td style=\"text-align: right;\"> 9.43943</td><td style=\"text-align: right;\"> 0.77258 </td><td style=\"text-align: right;\"> 1.66094 </td><td style=\"text-align: right;\">   1</td><td>G      </td><td style=\"text-align: right;\"> 8.55532</td><td style=\"text-align: right;\">-4.85155 </td><td style=\"text-align: right;\">  6.97696 </td><td style=\"text-align: right;\">-0.983229</td><td style=\"text-align: right;\"> 8.49797</td><td style=\"text-align: right;\">-0.115445</td><td style=\"text-align: right;\"> 2.17841  </td><td style=\"text-align: right;\">  -1</td><td style=\"text-align: right;\"> 9.41149</td></tr>\n",
       "<tr><td style=\"text-align: right;\">146436</td><td style=\"text-align: right;\">9.06786e+07</td><td>G      </td><td style=\"text-align: right;\">17.8132 </td><td style=\"text-align: right;\">-1.95959 </td><td style=\"text-align: right;\"> 2.80531</td><td style=\"text-align: right;\"> 17.4811 </td><td style=\"text-align: right;\"> 3.42195</td><td style=\"text-align: right;\"> 2.3335  </td><td style=\"text-align: right;\"> 2.18053 </td><td style=\"text-align: right;\">   1</td><td>G      </td><td style=\"text-align: right;\"> 9.42174</td><td style=\"text-align: right;\"> 4.36523 </td><td style=\"text-align: right;\">  0.168017</td><td style=\"text-align: right;\"> 8.34713 </td><td style=\"text-align: right;\"> 4.36846</td><td style=\"text-align: right;\"> 1.403   </td><td style=\"text-align: right;\"> 0.0384708</td><td style=\"text-align: right;\">   1</td><td style=\"text-align: right;\"> 7.74702</td></tr>\n",
       "<tr><td style=\"text-align: right;\">146436</td><td style=\"text-align: right;\">9.06867e+07</td><td>G      </td><td style=\"text-align: right;\"> 7.95664</td><td style=\"text-align: right;\"> 7.097   </td><td style=\"text-align: right;\">-1.31646</td><td style=\"text-align: right;\">  3.34613</td><td style=\"text-align: right;\"> 7.21806</td><td style=\"text-align: right;\"> 0.448399</td><td style=\"text-align: right;\">-0.183411</td><td style=\"text-align: right;\">   1</td><td>T      </td><td style=\"text-align: right;\"> 5.44467</td><td style=\"text-align: right;\">-1.34176 </td><td style=\"text-align: right;\">  1.38647 </td><td style=\"text-align: right;\"> 5.09025 </td><td style=\"text-align: right;\"> 1.92941</td><td style=\"text-align: right;\"> 1.69738 </td><td style=\"text-align: right;\"> 2.33981  </td><td style=\"text-align: right;\">  -1</td><td style=\"text-align: right;\"> 8.67727</td></tr>\n",
       "<tr><td style=\"text-align: right;\">146436</td><td style=\"text-align: right;\">9.06925e+07</td><td>G      </td><td style=\"text-align: right;\">11.3415 </td><td style=\"text-align: right;\"> 0.816445</td><td style=\"text-align: right;\"> 4.98596</td><td style=\"text-align: right;\"> 10.1534 </td><td style=\"text-align: right;\"> 5.05236</td><td style=\"text-align: right;\"> 1.44794 </td><td style=\"text-align: right;\"> 1.40849 </td><td style=\"text-align: right;\">   1</td><td>G      </td><td style=\"text-align: right;\"> 7.86621</td><td style=\"text-align: right;\"> 0.602823</td><td style=\"text-align: right;\">  5.05381 </td><td style=\"text-align: right;\"> 5.99681 </td><td style=\"text-align: right;\"> 5.08964</td><td style=\"text-align: right;\"> 1.00197 </td><td style=\"text-align: right;\"> 1.45208  </td><td style=\"text-align: right;\">  -1</td><td style=\"text-align: right;\"> 2.30104</td></tr>\n",
       "<tr><td style=\"text-align: right;\">146436</td><td style=\"text-align: right;\">9.07255e+07</td><td>G      </td><td style=\"text-align: right;\">18.1293 </td><td style=\"text-align: right;\"> 9.77963 </td><td style=\"text-align: right;\"> 7.17648</td><td style=\"text-align: right;\"> 13.4728 </td><td style=\"text-align: right;\">12.1303 </td><td style=\"text-align: right;\"> 0.957512</td><td style=\"text-align: right;\"> 0.633065</td><td style=\"text-align: right;\">  -1</td><td>T      </td><td style=\"text-align: right;\"> 4.48788</td><td style=\"text-align: right;\">-1.39991 </td><td style=\"text-align: right;\">  0.374027</td><td style=\"text-align: right;\"> 4.24621 </td><td style=\"text-align: right;\"> 1.44902</td><td style=\"text-align: right;\"> 1.79621 </td><td style=\"text-align: right;\"> 2.88051  </td><td style=\"text-align: right;\">   1</td><td style=\"text-align: right;\"> 8.38705</td></tr>\n",
       "<tr><td style=\"text-align: right;\">146436</td><td style=\"text-align: right;\">9.07496e+07</td><td>G      </td><td style=\"text-align: right;\">15.8762 </td><td style=\"text-align: right;\"> 1.5928  </td><td style=\"text-align: right;\"> 3.01336</td><td style=\"text-align: right;\"> 15.5057 </td><td style=\"text-align: right;\"> 3.40842</td><td style=\"text-align: right;\"> 2.21997 </td><td style=\"text-align: right;\"> 1.08455 </td><td style=\"text-align: right;\">  -1</td><td>G      </td><td style=\"text-align: right;\"> 7.74866</td><td style=\"text-align: right;\">-1.91338 </td><td style=\"text-align: right;\">  2.42923 </td><td style=\"text-align: right;\"> 7.10411 </td><td style=\"text-align: right;\"> 3.09228</td><td style=\"text-align: right;\"> 1.56923 </td><td style=\"text-align: right;\"> 2.23796  </td><td style=\"text-align: right;\">   1</td><td style=\"text-align: right;\"> 4.14828</td></tr>\n",
       "<tr><td style=\"text-align: right;\">146436</td><td style=\"text-align: right;\">9.08084e+07</td><td>G      </td><td style=\"text-align: right;\"> 8.99267</td><td style=\"text-align: right;\">-1.6444  </td><td style=\"text-align: right;\">-4.20646</td><td style=\"text-align: right;\">  7.77551</td><td style=\"text-align: right;\"> 4.51646</td><td style=\"text-align: right;\"> 1.31172 </td><td style=\"text-align: right;\">-1.94345 </td><td style=\"text-align: right;\">   1</td><td>G      </td><td style=\"text-align: right;\"> 6.45454</td><td style=\"text-align: right;\"> 0.860784</td><td style=\"text-align: right;\"> -4.41161 </td><td style=\"text-align: right;\"> 4.63105 </td><td style=\"text-align: right;\"> 4.4948 </td><td style=\"text-align: right;\"> 0.902647</td><td style=\"text-align: right;\">-1.3781   </td><td style=\"text-align: right;\">  -1</td><td style=\"text-align: right;\"> 3.1318 </td></tr>\n",
       "<tr><td style=\"text-align: right;\">146436</td><td style=\"text-align: right;\">9.08519e+07</td><td>G      </td><td style=\"text-align: right;\">10.4195 </td><td style=\"text-align: right;\">-3.61903 </td><td style=\"text-align: right;\">-2.36646</td><td style=\"text-align: right;\"> -9.47933</td><td style=\"text-align: right;\"> 4.32406</td><td style=\"text-align: right;\">-1.52644 </td><td style=\"text-align: right;\">-2.56249 </td><td style=\"text-align: right;\">   1</td><td>G      </td><td style=\"text-align: right;\">25.6473 </td><td style=\"text-align: right;\">11.7951  </td><td style=\"text-align: right;\">-17.8219  </td><td style=\"text-align: right;\">14.1785  </td><td style=\"text-align: right;\">21.3716 </td><td style=\"text-align: right;\"> 0.622447</td><td style=\"text-align: right;\">-0.986147 </td><td style=\"text-align: right;\">  -1</td><td style=\"text-align: right;\">28.3605 </td></tr>\n",
       "</tbody>\n",
       "</table>"
      ]
     },
     "metadata": {},
     "output_type": "display_data"
    },
    {
     "data": {
      "text/plain": []
     },
     "execution_count": 149,
     "metadata": {},
     "output_type": "execute_result"
    }
   ],
   "source": [
    "## display first 10 rows\n",
    "hdf.head()"
   ]
  },
  {
   "cell_type": "code",
   "execution_count": 150,
   "metadata": {},
   "outputs": [
    {
     "data": {
      "text/plain": [
       "[u'Run',\n",
       " u'Event',\n",
       " u'Type1',\n",
       " u'E1',\n",
       " u'px1 ',\n",
       " u'py1',\n",
       " u'pz1',\n",
       " u'pt1',\n",
       " u'eta1',\n",
       " u'phi1',\n",
       " u'Q1',\n",
       " u'Type2',\n",
       " u'E2',\n",
       " u'px2',\n",
       " u'py2',\n",
       " u'pz2',\n",
       " u'pt2',\n",
       " u'eta2',\n",
       " u'phi2',\n",
       " u'Q2',\n",
       " u'M']"
      ]
     },
     "execution_count": 150,
     "metadata": {},
     "output_type": "execute_result"
    }
   ],
   "source": [
    "#show columns\n",
    "hdf.columns"
   ]
  },
  {
   "cell_type": "code",
   "execution_count": 151,
   "metadata": {},
   "outputs": [],
   "source": [
    "## column rename\n",
    "hdf.set_name(u'px1 ', u'px1')"
   ]
  },
  {
   "cell_type": "markdown",
   "metadata": {},
   "source": [
    "### The Z boson has a mass of around 90 GeV, is neutral, and decays to two muons\n",
    "\n",
    "<img src=\"feynman.png\">"
   ]
  },
  {
   "cell_type": "code",
   "execution_count": 152,
   "metadata": {},
   "outputs": [],
   "source": [
    "## applying masks works like pandas\n",
    "oppo_sign = hdf[hdf['Q1']!=hdf['Q2']]\n",
    "same_sign = hdf[hdf['Q1']==hdf['Q2']]"
   ]
  },
  {
   "cell_type": "code",
   "execution_count": 314,
   "metadata": {},
   "outputs": [
    {
     "data": {
      "text/plain": [
       "Text(0.5,0,'Dimuon mass (GeV)')"
      ]
     },
     "execution_count": 314,
     "metadata": {},
     "output_type": "execute_result"
    },
    {
     "data": {
      "image/png": "[encoded data removed]",
      "text/plain": [
       "<Figure size 1080x360 with 2 Axes>"
      ]
     },
     "metadata": {},
     "output_type": "display_data"
    }
   ],
   "source": [
    "fig, (ax1, ax2) = plt.subplots(1,2, sharey='all',figsize=(15,5))\n",
    "\n",
    "oppo_sign.as_data_frame()['M'].hist(ax=ax1, bins=range(60,111,2))\n",
    "same_sign.as_data_frame()['M'].hist(ax=ax2, bins=range(60,111,2))\n",
    "\n",
    "\n",
    "ax1.text(60,65,\"Opposite sign dimuon\")\n",
    "ax1.set_xlabel(\"Dimuon mass (GeV)\")\n",
    "\n",
    "\n",
    "\n",
    "ax2.text(60,65,\"Same sign dimuon\")\n",
    "ax2.set_xlabel(\"Dimuon mass (GeV)\")\n"
   ]
  },
  {
   "cell_type": "code",
   "execution_count": 179,
   "metadata": {},
   "outputs": [],
   "source": [
    "def compute_mass(x):\n",
    "    \n",
    "    ## p = sqrt(x^2+y^2+z^2)\n",
    "    p_total = ( \n",
    "        (x['px1']+x['px2'])**2+\n",
    "        (x['py1']+x['py2'])**2+ \n",
    "        (x['pz1']+x['pz2'])**2\n",
    "    )**0.5\n",
    "    \n",
    "    return p_total\n",
    "\n",
    "## apply statement is not as nice as pandas :(\n",
    "hdf['mass_squared'] = hdf.apply(lambda x: (x['E1']+x['E2'])*(x['E1']+x['E2'])-\n",
    "                                (x['px1']+x['px2'])*(x['px1']+x['px2'])+\n",
    "                                (x['py1']+x['py2'])*(x['py1']+x['py2'])+ \n",
    "                                (x['pz1']+x['pz2'])*(x['pz1']+x['pz2']),\n",
    "                                axis=1)\n",
    "\n",
    "hdf['mass'] = hdf['mass_squared']**0.5"
   ]
  },
  {
   "cell_type": "code",
   "execution_count": 216,
   "metadata": {},
   "outputs": [
    {
     "data": {
      "text/html": [
       "<table>\n",
       "<thead>\n",
       "<tr><th style=\"text-align: right;\">   Run</th><th style=\"text-align: right;\">  mean_M</th><th style=\"text-align: right;\">    mean_Q2</th><th style=\"text-align: right;\">    mean_Q1</th></tr>\n",
       "</thead>\n",
       "<tbody>\n",
       "<tr><td style=\"text-align: right;\">146428</td><td style=\"text-align: right;\"> 9.37335</td><td style=\"text-align: right;\">-0.132867  </td><td style=\"text-align: right;\"> 0.0769231 </td></tr>\n",
       "<tr><td style=\"text-align: right;\">146430</td><td style=\"text-align: right;\">10.5183 </td><td style=\"text-align: right;\">-0.116279  </td><td style=\"text-align: right;\">-0.0166113 </td></tr>\n",
       "<tr><td style=\"text-align: right;\">146436</td><td style=\"text-align: right;\">11.1779 </td><td style=\"text-align: right;\"> 0.00627178</td><td style=\"text-align: right;\"> 0.00766551</td></tr>\n",
       "<tr><td style=\"text-align: right;\">146437</td><td style=\"text-align: right;\">11.3957 </td><td style=\"text-align: right;\">-0.0241423 </td><td style=\"text-align: right;\">-0.00889454</td></tr>\n",
       "<tr><td style=\"text-align: right;\">146511</td><td style=\"text-align: right;\"> 9.52288</td><td style=\"text-align: right;\">-0.0302222 </td><td style=\"text-align: right;\"> 0.0386667 </td></tr>\n",
       "<tr><td style=\"text-align: right;\">146514</td><td style=\"text-align: right;\"> 9.62239</td><td style=\"text-align: right;\">-0.0111248 </td><td style=\"text-align: right;\"> 0.0197775 </td></tr>\n",
       "<tr><td style=\"text-align: right;\">146589</td><td style=\"text-align: right;\"> 9.51422</td><td style=\"text-align: right;\"> 0.00374532</td><td style=\"text-align: right;\"> 0.0337079 </td></tr>\n",
       "<tr><td style=\"text-align: right;\">146644</td><td style=\"text-align: right;\"> 9.8562 </td><td style=\"text-align: right;\"> 0.00368601</td><td style=\"text-align: right;\"> 0.0315358 </td></tr>\n",
       "<tr><td style=\"text-align: right;\">146710</td><td style=\"text-align: right;\"> 9.51596</td><td style=\"text-align: right;\"> 0.0134745 </td><td style=\"text-align: right;\"> 0.00288739</td></tr>\n",
       "<tr><td style=\"text-align: right;\">146713</td><td style=\"text-align: right;\">10.2567 </td><td style=\"text-align: right;\"> 0.0053135 </td><td style=\"text-align: right;\"> 0.0159405 </td></tr>\n",
       "</tbody>\n",
       "</table>"
      ]
     },
     "metadata": {},
     "output_type": "display_data"
    },
    {
     "data": {
      "text/plain": []
     },
     "execution_count": 216,
     "metadata": {},
     "output_type": "execute_result"
    }
   ],
   "source": [
    "hdf.group_by('Run').mean(['Q1','Q2','M']).get_frame()"
   ]
  },
  {
   "cell_type": "code",
   "execution_count": null,
   "metadata": {},
   "outputs": [],
   "source": []
  },
  {
   "cell_type": "code",
   "execution_count": null,
   "metadata": {},
   "outputs": [],
   "source": []
  },
  {
   "cell_type": "markdown",
   "metadata": {},
   "source": [
    "## Build a model\n",
    "\n",
    "$ M^2 = (E_1+E_2)^2 - \\left|\\left|\\vec{p_1}+\\vec{p_2}\\right|\\right|^2$"
   ]
  },
  {
   "cell_type": "code",
   "execution_count": 217,
   "metadata": {},
   "outputs": [],
   "source": [
    "## import the models\n",
    "from h2o.estimators.glm import H2OGeneralizedLinearEstimator \n",
    "from h2o.estimators.gbm import H2OGradientBoostingEstimator \n",
    "from h2o.estimators.deeplearning import H2ODeepLearningEstimator \n"
   ]
  },
  {
   "cell_type": "code",
   "execution_count": 241,
   "metadata": {},
   "outputs": [],
   "source": [
    "glm = H2OGeneralizedLinearEstimator()\n",
    "dl = H2ODeepLearningEstimator()\n",
    "gbm = H2OGradientBoostingEstimator()"
   ]
  },
  {
   "cell_type": "code",
   "execution_count": 219,
   "metadata": {},
   "outputs": [],
   "source": [
    "predictors = ['px1','py1','pz1','px2','py2','pz2','E1','E2']"
   ]
  },
  {
   "cell_type": "code",
   "execution_count": null,
   "metadata": {},
   "outputs": [],
   "source": [
    "train, test = hdf.split_frame([0.7])"
   ]
  },
  {
   "cell_type": "code",
   "execution_count": 240,
   "metadata": {},
   "outputs": [
    {
     "name": "stdout",
     "output_type": "stream",
     "text": [
      "glm Model Build progress: |███████████████████████████████████████████████| 100%\n"
     ]
    },
    {
     "data": {
      "text/plain": [
       "-0.7682343845053332"
      ]
     },
     "execution_count": 240,
     "metadata": {},
     "output_type": "execute_result"
    }
   ],
   "source": [
    "glm.train(x=predictors, y='M', training_frame=train, validation_frame=test)\n",
    "glm.r2(valid=True)"
   ]
  },
  {
   "cell_type": "code",
   "execution_count": 242,
   "metadata": {},
   "outputs": [
    {
     "name": "stdout",
     "output_type": "stream",
     "text": [
      "deeplearning Model Build progress: |██████████████████████████████████████| 100%\n"
     ]
    },
    {
     "data": {
      "text/plain": [
       "0.7589307169013615"
      ]
     },
     "execution_count": 242,
     "metadata": {},
     "output_type": "execute_result"
    }
   ],
   "source": [
    "dl.train(x=predictors, y='M', training_frame=train, validation_frame=test)\n",
    "dl.r2(valid=True)"
   ]
  },
  {
   "cell_type": "code",
   "execution_count": 243,
   "metadata": {},
   "outputs": [
    {
     "name": "stdout",
     "output_type": "stream",
     "text": [
      "gbm Model Build progress: |███████████████████████████████████████████████| 100%\n"
     ]
    },
    {
     "data": {
      "text/plain": [
       "0.9034281239608016"
      ]
     },
     "execution_count": 243,
     "metadata": {},
     "output_type": "execute_result"
    }
   ],
   "source": [
    "gbm.train(x=predictors, y='M', training_frame=train, validation_frame=test)\n",
    "gbm.r2(valid=True)"
   ]
  },
  {
   "cell_type": "code",
   "execution_count": 246,
   "metadata": {},
   "outputs": [
    {
     "name": "stdout",
     "output_type": "stream",
     "text": [
      "gbm prediction progress: |████████████████████████████████████████████████| 100%\n"
     ]
    },
    {
     "data": {
      "text/html": [
       "<table>\n",
       "<thead>\n",
       "<tr><th style=\"text-align: right;\">       M</th><th style=\"text-align: right;\">  predict</th></tr>\n",
       "</thead>\n",
       "<tbody>\n",
       "<tr><td style=\"text-align: right;\">28.3605 </td><td style=\"text-align: right;\"> 24.6066 </td></tr>\n",
       "<tr><td style=\"text-align: right;\"> 6.79063</td><td style=\"text-align: right;\">  6.88675</td></tr>\n",
       "<tr><td style=\"text-align: right;\"> 9.97321</td><td style=\"text-align: right;\">  7.49742</td></tr>\n",
       "<tr><td style=\"text-align: right;\"> 7.98031</td><td style=\"text-align: right;\">  5.56148</td></tr>\n",
       "<tr><td style=\"text-align: right;\"> 9.56971</td><td style=\"text-align: right;\"> 10.6131 </td></tr>\n",
       "<tr><td style=\"text-align: right;\"> 3.19125</td><td style=\"text-align: right;\">  4.91168</td></tr>\n",
       "<tr><td style=\"text-align: right;\"> 4.8285 </td><td style=\"text-align: right;\">  6.37986</td></tr>\n",
       "<tr><td style=\"text-align: right;\"> 3.22257</td><td style=\"text-align: right;\">  5.04561</td></tr>\n",
       "<tr><td style=\"text-align: right;\"> 2.30013</td><td style=\"text-align: right;\">  4.39428</td></tr>\n",
       "<tr><td style=\"text-align: right;\"> 3.10956</td><td style=\"text-align: right;\">  5.81453</td></tr>\n",
       "</tbody>\n",
       "</table>"
      ]
     },
     "metadata": {},
     "output_type": "display_data"
    },
    {
     "data": {
      "text/plain": []
     },
     "execution_count": 246,
     "metadata": {},
     "output_type": "execute_result"
    }
   ],
   "source": [
    "test['M'].cbind( gbm.predict(test) )"
   ]
  },
  {
   "cell_type": "code",
   "execution_count": 249,
   "metadata": {},
   "outputs": [
    {
     "name": "stdout",
     "output_type": "stream",
     "text": [
      "gbm Model Build progress: |███████████████████████████████████████████████| 100%\n"
     ]
    },
    {
     "data": {
      "text/plain": [
       "0.9034281239608016"
      ]
     },
     "execution_count": 249,
     "metadata": {},
     "output_type": "execute_result"
    }
   ],
   "source": [
    "gbm_big = H2OGradientBoostingEstimator(ntrees=200, max_depth=12)\n",
    "gbm_big.train(x=predictors, y='M', training_frame=train, validation_frame=test)\n",
    "gbm.r2(valid=True)"
   ]
  },
  {
   "cell_type": "markdown",
   "metadata": {},
   "source": [
    "## H2O Flow (localhost:54321)\n",
    "### if running remotely, you must tunnel the port\n",
    "`ssh -L 54321:localhost:54321 username@hostname.com`"
   ]
  },
  {
   "cell_type": "code",
   "execution_count": null,
   "metadata": {},
   "outputs": [],
   "source": []
  },
  {
   "cell_type": "markdown",
   "metadata": {},
   "source": [
    "## Model selection: Grid search + AutoML\n",
    "\n",
    "https://github.com/h2oai/h2o-tutorials/blob/fa38a7fc42d2265356942aa9f8bd0a07244a4033/training/gbm_deep_dive/python/gbmTuning.ipynb"
   ]
  },
  {
   "cell_type": "code",
   "execution_count": 255,
   "metadata": {},
   "outputs": [],
   "source": [
    "from h2o.grid.grid_search import H2OGridSearch"
   ]
  },
  {
   "cell_type": "code",
   "execution_count": 311,
   "metadata": {},
   "outputs": [],
   "source": [
    "hyper_params = {'max_depth': range(2,21,2),\n",
    "                'sample_rate': [x/100. for x in range(20, 101)],\n",
    "                'col_sample_rate': [x/100. for x in range(20, 101)],\n",
    "                'histogram_type': [\"UniformAdaptive\", \"QuantilesGlobal\"],\n",
    "                'ntrees': range(20,201,20)\n",
    "               }\n",
    "search_criteria= { 'strategy': \"RandomDiscrete\", 'max_models': 10 }"
   ]
  },
  {
   "cell_type": "code",
   "execution_count": 277,
   "metadata": {},
   "outputs": [],
   "source": [
    "grid = H2OGridSearch(gbm, hyper_params, search_criteria=search_criteria)"
   ]
  },
  {
   "cell_type": "code",
   "execution_count": 278,
   "metadata": {},
   "outputs": [
    {
     "name": "stdout",
     "output_type": "stream",
     "text": [
      "gbm Grid Build progress: |████████████████████████████████████████████████| 100%\n"
     ]
    }
   ],
   "source": [
    "grid.train(x = predictors, y = 'M', training_frame = train, validation_frame = test)"
   ]
  },
  {
   "cell_type": "code",
   "execution_count": 279,
   "metadata": {},
   "outputs": [
    {
     "data": {
      "text/plain": [
       "0.9754717053753583"
      ]
     },
     "execution_count": 279,
     "metadata": {},
     "output_type": "execute_result"
    }
   ],
   "source": [
    "grid[0].r2(valid=True)"
   ]
  },
  {
   "cell_type": "code",
   "execution_count": 280,
   "metadata": {},
   "outputs": [
    {
     "name": "stdout",
     "output_type": "stream",
     "text": [
      "gbm prediction progress: |████████████████████████████████████████████████| 100%\n"
     ]
    },
    {
     "data": {
      "text/html": [
       "<table>\n",
       "<thead>\n",
       "<tr><th style=\"text-align: right;\">       M</th><th style=\"text-align: right;\">  predict</th></tr>\n",
       "</thead>\n",
       "<tbody>\n",
       "<tr><td style=\"text-align: right;\">28.3605 </td><td style=\"text-align: right;\"> 30.7714 </td></tr>\n",
       "<tr><td style=\"text-align: right;\"> 6.79063</td><td style=\"text-align: right;\">  5.80079</td></tr>\n",
       "<tr><td style=\"text-align: right;\"> 9.97321</td><td style=\"text-align: right;\"> 10.9418 </td></tr>\n",
       "<tr><td style=\"text-align: right;\"> 7.98031</td><td style=\"text-align: right;\">  7.8518 </td></tr>\n",
       "<tr><td style=\"text-align: right;\"> 9.56971</td><td style=\"text-align: right;\">  9.12102</td></tr>\n",
       "<tr><td style=\"text-align: right;\"> 3.19125</td><td style=\"text-align: right;\">  3.00321</td></tr>\n",
       "<tr><td style=\"text-align: right;\"> 4.8285 </td><td style=\"text-align: right;\">  4.76139</td></tr>\n",
       "<tr><td style=\"text-align: right;\"> 3.22257</td><td style=\"text-align: right;\">  2.93303</td></tr>\n",
       "<tr><td style=\"text-align: right;\"> 2.30013</td><td style=\"text-align: right;\">  2.57914</td></tr>\n",
       "<tr><td style=\"text-align: right;\"> 3.10956</td><td style=\"text-align: right;\">  3.31377</td></tr>\n",
       "</tbody>\n",
       "</table>"
      ]
     },
     "metadata": {},
     "output_type": "display_data"
    },
    {
     "data": {
      "text/plain": []
     },
     "execution_count": 280,
     "metadata": {},
     "output_type": "execute_result"
    }
   ],
   "source": [
    "test['M'].cbind( grid[0].predict(test) )"
   ]
  },
  {
   "cell_type": "code",
   "execution_count": 312,
   "metadata": {},
   "outputs": [],
   "source": [
    "## AutoML!!!\n",
    "\n",
    "from h2o.automl import H2OAutoML"
   ]
  },
  {
   "cell_type": "code",
   "execution_count": 286,
   "metadata": {},
   "outputs": [
    {
     "name": "stdout",
     "output_type": "stream",
     "text": [
      "AutoML progress: |████████████████████████████████████████████████████████| 100%\n"
     ]
    }
   ],
   "source": [
    "aml = H2OAutoML(max_runtime_secs = 60)\n",
    "aml.train(x = predictors, y = 'M',training_frame=train)"
   ]
  },
  {
   "cell_type": "code",
   "execution_count": 287,
   "metadata": {},
   "outputs": [
    {
     "data": {
      "text/html": [
       "<table>\n",
       "<thead>\n",
       "<tr><th>model_id                                             </th><th style=\"text-align: right;\">  mean_residual_deviance</th><th style=\"text-align: right;\">   rmse</th><th style=\"text-align: right;\">     mse</th><th style=\"text-align: right;\">     mae</th><th style=\"text-align: right;\">   rmsle</th></tr>\n",
       "</thead>\n",
       "<tbody>\n",
       "<tr><td>StackedEnsemble_BestOfFamily_0_AutoML_20180725_220928</td><td style=\"text-align: right;\">                 2.87654</td><td style=\"text-align: right;\">1.69604</td><td style=\"text-align: right;\"> 2.87654</td><td style=\"text-align: right;\">0.963134</td><td style=\"text-align: right;\">0.173081</td></tr>\n",
       "<tr><td>StackedEnsemble_AllModels_0_AutoML_20180725_220928   </td><td style=\"text-align: right;\">                 2.87654</td><td style=\"text-align: right;\">1.69604</td><td style=\"text-align: right;\"> 2.87654</td><td style=\"text-align: right;\">0.963134</td><td style=\"text-align: right;\">0.173081</td></tr>\n",
       "<tr><td>GBM_grid_0_AutoML_20180725_220928_model_0            </td><td style=\"text-align: right;\">                 2.94825</td><td style=\"text-align: right;\">1.71705</td><td style=\"text-align: right;\"> 2.94825</td><td style=\"text-align: right;\">0.979514</td><td style=\"text-align: right;\">0.174161</td></tr>\n",
       "<tr><td>DRF_0_AutoML_20180725_220928                         </td><td style=\"text-align: right;\">                 9.98787</td><td style=\"text-align: right;\">3.16036</td><td style=\"text-align: right;\"> 9.98787</td><td style=\"text-align: right;\">2.1235  </td><td style=\"text-align: right;\">0.341106</td></tr>\n",
       "<tr><td>XRT_0_AutoML_20180725_220928                         </td><td style=\"text-align: right;\">                11.0902 </td><td style=\"text-align: right;\">3.33019</td><td style=\"text-align: right;\">11.0902 </td><td style=\"text-align: right;\">2.28717 </td><td style=\"text-align: right;\">0.358953</td></tr>\n",
       "<tr><td>GLM_grid_0_AutoML_20180725_220928_model_0            </td><td style=\"text-align: right;\">                92.2353 </td><td style=\"text-align: right;\">9.60392</td><td style=\"text-align: right;\">92.2353 </td><td style=\"text-align: right;\">6.27756 </td><td style=\"text-align: right;\">0.733674</td></tr>\n",
       "</tbody>\n",
       "</table>"
      ]
     },
     "metadata": {},
     "output_type": "display_data"
    },
    {
     "data": {
      "text/plain": []
     },
     "execution_count": 287,
     "metadata": {},
     "output_type": "execute_result"
    }
   ],
   "source": [
    "# View the AutoML Leaderboard\n",
    "lb = aml.leaderboard\n",
    "lb"
   ]
  },
  {
   "cell_type": "code",
   "execution_count": 290,
   "metadata": {},
   "outputs": [
    {
     "data": {
      "text/plain": [
       "0.969255892753026"
      ]
     },
     "execution_count": 290,
     "metadata": {},
     "output_type": "execute_result"
    }
   ],
   "source": [
    "aml.leader.r2(valid=True)"
   ]
  },
  {
   "cell_type": "code",
   "execution_count": 291,
   "metadata": {},
   "outputs": [
    {
     "name": "stdout",
     "output_type": "stream",
     "text": [
      "stackedensemble prediction progress: |████████████████████████████████████| 100%\n"
     ]
    },
    {
     "data": {
      "text/html": [
       "<table>\n",
       "<thead>\n",
       "<tr><th style=\"text-align: right;\">       M</th><th style=\"text-align: right;\">  predict</th></tr>\n",
       "</thead>\n",
       "<tbody>\n",
       "<tr><td style=\"text-align: right;\">28.3605 </td><td style=\"text-align: right;\"> 30.6756 </td></tr>\n",
       "<tr><td style=\"text-align: right;\"> 6.79063</td><td style=\"text-align: right;\">  6.04843</td></tr>\n",
       "<tr><td style=\"text-align: right;\"> 9.97321</td><td style=\"text-align: right;\">  6.74296</td></tr>\n",
       "<tr><td style=\"text-align: right;\"> 7.98031</td><td style=\"text-align: right;\">  7.10323</td></tr>\n",
       "<tr><td style=\"text-align: right;\"> 9.56971</td><td style=\"text-align: right;\">  9.5271 </td></tr>\n",
       "<tr><td style=\"text-align: right;\"> 3.19125</td><td style=\"text-align: right;\">  3.25516</td></tr>\n",
       "<tr><td style=\"text-align: right;\"> 4.8285 </td><td style=\"text-align: right;\">  4.66809</td></tr>\n",
       "<tr><td style=\"text-align: right;\"> 3.22257</td><td style=\"text-align: right;\">  2.74275</td></tr>\n",
       "<tr><td style=\"text-align: right;\"> 2.30013</td><td style=\"text-align: right;\">  2.30194</td></tr>\n",
       "<tr><td style=\"text-align: right;\"> 3.10956</td><td style=\"text-align: right;\">  3.71577</td></tr>\n",
       "</tbody>\n",
       "</table>"
      ]
     },
     "metadata": {},
     "output_type": "display_data"
    },
    {
     "data": {
      "text/plain": []
     },
     "execution_count": 291,
     "metadata": {},
     "output_type": "execute_result"
    }
   ],
   "source": [
    "test['M'].cbind( aml.leader.predict(test) )"
   ]
  },
  {
   "cell_type": "code",
   "execution_count": 313,
   "metadata": {},
   "outputs": [
    {
     "name": "stdout",
     "output_type": "stream",
     "text": [
      "stackedensemble prediction progress: |████████████████████████████████████| 100%\n"
     ]
    },
    {
     "data": {
      "text/plain": [
       "<matplotlib.legend.Legend at 0x7f26108d8890>"
      ]
     },
     "execution_count": 313,
     "metadata": {},
     "output_type": "execute_result"
    },
    {
     "data": {
      "image/png": "[encoded data removed]",
      "text/plain": [
       "<Figure size 432x288 with 1 Axes>"
      ]
     },
     "metadata": {},
     "output_type": "display_data"
    }
   ],
   "source": [
    "fig = plt.figure()\n",
    "\n",
    "ax = fig.add_subplot(111)\n",
    "\n",
    "test['M'].as_data_frame().hist(bins=range(30,111,2), ax=ax, label='Actual mass distribution')\n",
    "aml.leader.predict(test).as_data_frame().hist(bins=range(30,111,2), ax=ax, alpha=0.5, label='Predicted mass distribution')\n",
    "ax.set_xlabel('Dimuon mass (GeV)')\n",
    "plt.legend()"
   ]
  },
  {
   "cell_type": "code",
   "execution_count": null,
   "metadata": {},
   "outputs": [],
   "source": []
  }
 ],
 "metadata": {
  "kernelspec": {
   "display_name": "Python 2",
   "language": "python",
   "name": "python2"
  },
  "language_info": {
   "codemirror_mode": {
    "name": "ipython",
    "version": 2
   },
   "file_extension": ".py",
   "mimetype": "text/x-python",
   "name": "python",
   "nbconvert_exporter": "python",
   "pygments_lexer": "ipython2",
   "version": "2.7.14"
  }
 },
 "nbformat": 4,
 "nbformat_minor": 2
}
